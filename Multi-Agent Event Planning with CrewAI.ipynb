{
 "cells": [
  {
   "cell_type": "markdown",
   "id": "a1064e81-380e-4b1b-8564-26ef83ccb652",
   "metadata": {},
   "source": [
    "## Automate Event Planning"
   ]
  },
  {
   "cell_type": "code",
   "execution_count": null,
   "id": "22f21ef2-6dbf-401a-9ff9-3a8596f86c3d",
   "metadata": {},
   "outputs": [],
   "source": [
    "# Warning Control\n",
    "from warnings import filterwarnings\n",
    "filterwarnings('ignore')"
   ]
  },
  {
   "cell_type": "code",
   "execution_count": null,
   "id": "f664d3ef-52ab-40fb-8bac-64a7316ad21d",
   "metadata": {},
   "outputs": [],
   "source": [
    "from crewai import Agent, Task, Crew\n",
    "from dotenv import load_dotenv\n",
    "import os\n",
    "import json\n",
    "from pprint import pprint\n",
    "from IPython.display import Markdown, display"
   ]
  },
  {
   "cell_type": "code",
   "execution_count": null,
   "id": "4c14e94e-9fc6-4331-960e-c698f172186f",
   "metadata": {},
   "outputs": [],
   "source": [
    "# --------- Load keys  ----------\n",
    "load_dotenv()\n",
    "#openai_api_key = os.getenv(\"OPENAI_API_KEY\")\n",
    "#serper_api_key = os.getenv(\"SERPER_API_KEY\")\n",
    "\n",
    "#os.environ[\"SERPER_API_KEY\"]= serper_api_key\n",
    "#os.environ[\"OPENAI_API_KEY\"] = openai_api_key\n",
    "os.environ[\"OPENAI_MODEL_NAME\"] = 'gpt-4.1-mini'"
   ]
  },
  {
   "cell_type": "markdown",
   "id": "d2d99817-11eb-446d-8dbb-37f3abd78f2d",
   "metadata": {},
   "source": [
    "#### CrewAI Tools"
   ]
  },
  {
   "cell_type": "code",
   "execution_count": null,
   "id": "a0eaea76-6d85-4aff-bddf-419ded7f02a8",
   "metadata": {},
   "outputs": [],
   "source": [
    "from crewai_tools import SerperDevTool, ScrapeWebsiteTool\n",
    "\n",
    "# Initialize the tools\n",
    "search_tool = SerperDevTool()   # To search the web (depending on Serper)\n",
    "scrape_tool = ScrapeWebsiteTool()  # To extract the content of a web page (scraping)"
   ]
  },
  {
   "cell_type": "markdown",
   "id": "532f9d5d-a2df-44cf-be3c-b45cca99f5de",
   "metadata": {},
   "source": [
    "#### Creating Agents"
   ]
  },
  {
   "cell_type": "code",
   "execution_count": null,
   "id": "7ee3b069-9898-43c9-9115-40813c0d0544",
   "metadata": {
    "editable": true,
    "slideshow": {
     "slide_type": ""
    },
    "tags": []
   },
   "outputs": [],
   "source": [
    "# ------- Agent1: Venue Coordinator -------\n",
    "venue_coordinator = Agent(\n",
    "    role = \"Venue Coordinator (Eco-Friendly)\",\n",
    "    goal = \"Continuously research, evaluate, recommend, and book an appropriate venue \"\n",
    "           \"that align with event themes, audience needs, and budget constraints.\",\n",
    "    backstory = (\n",
    "        \"With a keen sense of space and understanding of event logistics, \"\n",
    "        \"you excel at finding and securing venues that reinforce the event’s identity \"\n",
    "        \"while meeting size, budget, and environmental constraints.\"\n",
    "        \"you are trusted to balance comfort, accessibility, and environmental goals \"\n",
    "        \"when advising on venue selection.\"\n",
    "    ),\n",
    "    tools=[search_tool, scrape_tool],\n",
    "    verbose = True,\n",
    ")"
   ]
  },
  {
   "cell_type": "code",
   "execution_count": null,
   "id": "30820391-9594-4035-ba68-49bc439e443f",
   "metadata": {},
   "outputs": [],
   "source": [
    "# ------- Agent2: Logistics Manager for the event -------\n",
    "logistics_manager = Agent(\n",
    "    role = \"Logistics Manager\",\n",
    "    goal = \"Manage all logistics for the event \"\n",
    "           \"including catering and equipmen\",\n",
    "    backstory = (\n",
    "        \"Organized and detail-oriented, you ensure every logistical aspect of the event \"\n",
    "        \"from catering to equipment setup is flawlessly executed.\"\n",
    "        \"You place networking lounges effectively, and coordinate with venue/vendors \"\n",
    "        \"to enable live product demos safely.\"\n",
    "    ),\n",
    "    verbose = True,\n",
    "    tools=[search_tool, scrape_tool]\n",
    ")"
   ]
  },
  {
   "cell_type": "code",
   "execution_count": null,
   "id": "66da58d0-fe48-41f0-8ba0-8a1b3006489c",
   "metadata": {},
   "outputs": [],
   "source": [
    "# ------- Agent3: Event marketing and attendee communication ------\n",
    "marketing_communications_agent = Agent(\n",
    "    role = \"Marketing and Communications Agent\",\n",
    "    goal = \"Effectively market the event and \"\n",
    "           \"communicate with participants\",\n",
    "    backstory = \n",
    "            \"Creative and communicative, \"\n",
    "            \"you craft compelling messages and \"\n",
    "            \"engage with potential attendees \"\n",
    "            \"to maximize event exposure and participation.\",\n",
    "    verbose = True,\n",
    "    tools=[search_tool, scrape_tool]\n",
    ")"
   ]
  },
  {
   "cell_type": "code",
   "execution_count": null,
   "id": "9a6d1ed1-be01-4ab2-8a73-0a74c17673ea",
   "metadata": {},
   "outputs": [],
   "source": [
    "# ------ Agent4: Risk and compliance ------ \n",
    "risk_compliance = Agent(\n",
    "    role=\"Risk and Compliance\",\n",
    "    goal=\"Ensures permits, insurance, safety plan, and supplier compliance, \"\n",
    "         \"with event day checklist.\",\n",
    "    backstory=\"Specializes in minimizing surprises and ensuring legal compliance \"\n",
    "          \"and operational safety at events.\",\n",
    "   tools=[search_tool, scrape_tool], \n",
    "    verbose=True\n",
    ")"
   ]
  },
  {
   "cell_type": "markdown",
   "id": "47eddc42-93c1-4c1b-834c-166868a93e6e",
   "metadata": {},
   "source": [
    "#### Creating Venue Pydantic Object\n",
    "##### Pydantic model for structuring place outputs"
   ]
  },
  {
   "cell_type": "code",
   "execution_count": null,
   "id": "0c72f51a-74dc-468b-92c7-a663cbd361d4",
   "metadata": {},
   "outputs": [],
   "source": [
    "from pydantic import BaseModel\n",
    "\n",
    "# ---- Pydantic Models (structured outputs) ----\n",
    "\n",
    "class VenueDetails(BaseModel):\n",
    "    name: str\n",
    "    address: str\n",
    "    capacity: int\n",
    "    booking_status: str\n",
    "    price_estimate: float\n",
    "    pros: list[str]\n",
    "    cons: list[str]\n",
    "    url: str"
   ]
  },
  {
   "cell_type": "markdown",
   "id": "bf96aea6-8581-42ad-8a1e-b9696747d4b4",
   "metadata": {},
   "source": [
    "#### Creating Tasks"
   ]
  },
  {
   "cell_type": "code",
   "execution_count": null,
   "id": "3d5c2d28-6250-4aff-915e-f2bdf2eb688f",
   "metadata": {},
   "outputs": [],
   "source": [
    "# Task1: Venue research and selection\n",
    "venue_task = Task(\n",
    "    description = (\n",
    "        \"Find a {venue_type} in {event_city} suitable for {event_topic}. \"\n",
    "        \"The venue must accommodate around {expected_participants} participants \"\n",
    "        \"and support the following preferences: {preferences}. \"\n",
    "        \"Ensure cost considerations fit within a ${budget} budget.\"\n",
    "    ),\n",
    "    expected_output = (\n",
    "        \"All the details of a specifically chosen\"\n",
    "        \"venue you found to accommodate the event.\"\n",
    "    ),\n",
    "    human_input= True, # Enable user interaction before running for extra input.\n",
    "    output_json= VenueDetails,# Return the results in a specific structured format.\n",
    "    output_file= \"venue_details.json\", # Outputs the venue details as a JSON file.\n",
    "    agent = venue_coordinator,\n",
    ")"
   ]
  },
  {
   "cell_type": "code",
   "execution_count": null,
   "id": "39172c2e-5e90-4bd2-9e95-8ec0ce3b00b9",
   "metadata": {},
   "outputs": [],
   "source": [
    "# Task2: Sustainable logistics plan\n",
    "logistics_task = Task(\n",
    "    description = (\n",
    "        \"Coordinate a sustainable logistics plan for {event_topic} with {expected_participants} \"\n",
    "        \"participants on {tentative_date}, and cover the requirements \"\n",
    "        \"including catering arrangements (with a focus on green and local options), \"\n",
    "        \"equipment setup, attendee flow and accessibility, \"\n",
    "        \"signage/wayfinding, and waste and recycling management.\"\n",
    "    ),\n",
    "    expected_output = (\n",
    "        \"A structured logistics package containing:\\n\"\n",
    "        \"- Confirmation of all logistics arrangements \"\n",
    "        \"including catering and equipment setup.\\n\"\n",
    "        \"- A checklist of confirmed vendor arrangements with timelines, \"\n",
    "        \"service level agreements, and sustainability compliance.\\n\"\n",
    "        \"- Clear confirmation that all logistics support the event theme and budget.\"\n",
    "    ),\n",
    "    human_input= True,\n",
    "    async_execution= True,\n",
    "    agent = logistics_manager,\n",
    ")"
   ]
  },
  {
   "cell_type": "code",
   "execution_count": null,
   "id": "565e674e-7e65-4025-a104-ba6027b485d0",
   "metadata": {},
   "outputs": [],
   "source": [
    "# Task3: Marketing and communications plan.\n",
    "marketing_task = Task(\n",
    "    description = (\n",
    "        \"Promote the {event_topic} aiming to engage at least \" \n",
    "        \"{expected_participants} potential attendees.\"\n",
    "        \"Highlight the event’s unique features such as {preferences} \"\n",
    "        \"and its sustainability theme. Strategies should include social media, \"\n",
    "        \"email campaigns, press engagement, and partnerships with local organizations.\"\n",
    "    ),\n",
    "    expected_output = (\n",
    "        \" A detailed report in Markdown format includes:\\n\"\n",
    "        \" - Marketing activities and attendee engagement.\\n\"\n",
    "        \"- Target audience and key messages.\\n\"\n",
    "        \"- Press release draft.\\n\"\n",
    "        \"- Notes on community partnerships and outreach channels.\"\n",
    "    ),\n",
    "    async_execution= True,\n",
    "    output_file= \"marketing_report.md\",    # Outputs the report as a text file\n",
    "    agent = marketing_communications_agent,\n",
    ")"
   ]
  },
  {
   "cell_type": "code",
   "execution_count": null,
   "id": "6d01fa62-0256-4bd7-b805-5b90134ef90c",
   "metadata": {},
   "outputs": [],
   "source": [
    "# Task5: Risk and compliance checklist and safety plan\n",
    "risk_task = Task(\n",
    "    description=(\n",
    "        \"Define required permits and licenses, insurance requirements, emergency safety plan, \"\n",
    "        \"and supplier compliance processes (e.g., food, audio-visual, security). \"\n",
    "        \"Create an event day checklist appropriate to the audience size, venue, \"\n",
    "        \"and sustainability criteria for the Green Energy Startup Expo event.\"\n",
    "    ),\n",
    "    expected_output=(\n",
    "        \"Markdown file containing: Requirements list (permits/insurance), brief safety \"\n",
    "        \"and evacuation plan, Supplier compliance checklist, and day-of checklist.\"\n",
    "    ),\n",
    "    output_file = \"risk_compliance_checklist.md\",\n",
    "    agent=risk_compliance,\n",
    ")"
   ]
  },
  {
   "cell_type": "markdown",
   "id": "decf1137-9e0b-4468-a612-e8e431d26854",
   "metadata": {},
   "source": [
    "#### Creating the Crew"
   ]
  },
  {
   "cell_type": "code",
   "execution_count": null,
   "id": "c8ddcefb-d26f-4afd-acf3-5ef8e75cdb44",
   "metadata": {},
   "outputs": [],
   "source": [
    "event_management_crew = Crew(\n",
    "    agents = [venue_coordinator, \n",
    "              logistics_manager, \n",
    "              marketing_communications_agent,\n",
    "              risk_compliance],\n",
    "    tasks = [venue_task,logistics_task, marketing_task, risk_task],\n",
    "    verbose = True\n",
    ")"
   ]
  },
  {
   "cell_type": "markdown",
   "id": "0bd62b3a-ed30-4a27-a4de-9aa7711cc259",
   "metadata": {},
   "source": [
    "#### Running the Crew"
   ]
  },
  {
   "cell_type": "code",
   "execution_count": null,
   "id": "d427acaf-3b17-40d6-9afb-f88f1e2f4406",
   "metadata": {},
   "outputs": [],
   "source": [
    "event_details = {\n",
    "    'event_topic': \"Green Energy Startup Expo\",\n",
    "    'event_city': \"Austin, TX\",\n",
    "    'tentative_date': \"2025-10-25\",\n",
    "    'expected_participants': 500,\n",
    "    'budget': 60000,\n",
    "    'preferences': (\n",
    "                    \"dedicated spaces for cleantech startup showcases,\"\n",
    "                    \"live product demos,\"\n",
    "                    \"networking lounges,\"\n",
    "                    \"green catering\"\n",
    "                    ),  \n",
    "    'audience': \"cleantech founders, investors, utilities, policymakers, community advocates, and students\",\n",
    "    'venue_type': \"Exhibition Center\"\n",
    "}"
   ]
  },
  {
   "cell_type": "code",
   "execution_count": null,
   "id": "0447064f-9d97-4a1b-8461-2f8b3bbb9e01",
   "metadata": {},
   "outputs": [],
   "source": [
    "result = event_management_crew.kickoff(inputs = event_details)"
   ]
  },
  {
   "cell_type": "markdown",
   "id": "001b92d0-1693-48e0-804b-70a7950b6e54",
   "metadata": {},
   "source": [
    "#### Display the generated venue_details.json file."
   ]
  },
  {
   "cell_type": "code",
   "execution_count": null,
   "id": "952c1b35-28cc-44bf-b94d-7eb7032047e3",
   "metadata": {},
   "outputs": [],
   "source": [
    "with open('venue_details.json') as f:\n",
    "   data = json.load(f)\n",
    "\n",
    "pprint(data)"
   ]
  },
  {
   "cell_type": "markdown",
   "id": "d118e93b-2629-47ef-a0c5-50e95023b0d0",
   "metadata": {},
   "source": [
    "#### Display the generated marketing_report.md file."
   ]
  },
  {
   "cell_type": "code",
   "execution_count": null,
   "id": "f8f39861-d21a-4053-a4ee-1c677e35db36",
   "metadata": {
    "scrolled": true
   },
   "outputs": [],
   "source": [
    "display(Markdown(\"./marketing_report.md\"))"
   ]
  },
  {
   "cell_type": "markdown",
   "id": "84eea226-176a-4b0c-8439-ddf498410195",
   "metadata": {},
   "source": [
    "#### Display the generated risk_compliance_checklist.md file."
   ]
  },
  {
   "cell_type": "code",
   "execution_count": null,
   "id": "d77878aa-f470-4ae8-8b19-15361821b553",
   "metadata": {},
   "outputs": [],
   "source": [
    "display(Markdown(\"./risk_compliance_checklist.md\"))"
   ]
  },
  {
   "cell_type": "code",
   "execution_count": null,
   "id": "7ebe83e6-3ea9-42f1-bbc3-68da6b494ac9",
   "metadata": {},
   "outputs": [],
   "source": []
  }
 ],
 "metadata": {
  "kernelspec": {
   "display_name": "Python (ai-agents)",
   "language": "python",
   "name": "ai-agents"
  },
  "language_info": {
   "codemirror_mode": {
    "name": "ipython",
    "version": 3
   },
   "file_extension": ".py",
   "mimetype": "text/x-python",
   "name": "python",
   "nbconvert_exporter": "python",
   "pygments_lexer": "ipython3",
   "version": "3.11.13"
  }
 },
 "nbformat": 4,
 "nbformat_minor": 5
}
